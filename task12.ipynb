{
  "nbformat": 4,
  "nbformat_minor": 0,
  "metadata": {
    "colab": {
      "provenance": [],
      "authorship_tag": "ABX9TyMTVOnUhmnAVqsM2Nev15bg",
      "include_colab_link": true
    },
    "kernelspec": {
      "name": "python3",
      "display_name": "Python 3"
    },
    "language_info": {
      "name": "python"
    }
  },
  "cells": [
    {
      "cell_type": "markdown",
      "metadata": {
        "id": "view-in-github",
        "colab_type": "text"
      },
      "source": [
        "<a href=\"https://colab.research.google.com/github/gaydever228/bioinformatics/blob/main/task12.ipynb\" target=\"_parent\"><img src=\"https://colab.research.google.com/assets/colab-badge.svg\" alt=\"Open In Colab\"/></a>"
      ]
    },
    {
      "cell_type": "markdown",
      "source": [
        "Designed by **Sergei Kozlov** M05-315 in *Dolgoprudnii, Russia*"
      ],
      "metadata": {
        "id": "cWMWcHxvGUxP"
      }
    },
    {
      "cell_type": "markdown",
      "source": [
        "# Find a k-Universal Circular String"
      ],
      "metadata": {
        "id": "lJVqMoxgGU0e"
      }
    },
    {
      "cell_type": "code",
      "execution_count": null,
      "metadata": {
        "id": "G0p8VcqBGQHK"
      },
      "outputs": [],
      "source": [
        "import numpy as np"
      ]
    },
    {
      "cell_type": "code",
      "source": [
        "task_file = open('rosalind_ba3i.txt','r')\n",
        "task = task_file.readlines()\n",
        "k = int(task[0])"
      ],
      "metadata": {
        "id": "PC5kRSYDGfXr"
      },
      "execution_count": null,
      "outputs": []
    },
    {
      "cell_type": "code",
      "source": [
        "def DeBrujin(k, seq, binString, i, p):\n",
        "    if i > k:\n",
        "        if k%p == 0:\n",
        "            seq.extend(binString[1 : p + 1])\n",
        "            return seq\n",
        "        else:\n",
        "            return seq\n",
        "    else:\n",
        "        binString[i] = binString[i - p]\n",
        "        seq = DeBrujin(k, seq, binString, i + 1, p)\n",
        "        for j in range(binString[i - p] + 1, 2):\n",
        "            binString[i] = j\n",
        "            seq = DeBrujin(k, seq, binString, i + 1, i)\n",
        "        return seq\n",
        "def CircString(k):\n",
        "    binString = [0]*2*k\n",
        "    seq = []\n",
        "    i = 1\n",
        "    p = 1\n",
        "    seq = DeBrujin(k, seq, binString, i, p)\n",
        "\n",
        "    #print(seq)\n",
        "\n",
        "    return \"\".join('01'[i] for i in seq)"
      ],
      "metadata": {
        "id": "o4g5ujNtKjKn"
      },
      "execution_count": null,
      "outputs": []
    },
    {
      "cell_type": "code",
      "source": [
        "CircString(k)"
      ],
      "metadata": {
        "colab": {
          "base_uri": "https://localhost:8080/",
          "height": 70
        },
        "id": "kMLk1Vt1GhEs",
        "outputId": "6fe1503b-1bf2-441f-d451-2ed5e19cc93a"
      },
      "execution_count": null,
      "outputs": [
        {
          "output_type": "execute_result",
          "data": {
            "text/plain": [
              "'00000000010000000110000001010000001110000010010000010110000011010000011110000100010000100110000101010000101110000110010000110110000111010000111110001000110001001010001001110001010010001010110001011010001011110001100110001101010001101110001110010001110110001111010001111110010010010110010011010010011110010100110010101010010101110010110110010111010010111110011001110011010110011011010011011110011101010011101110011110110011111010011111110101010110101011110101101110101110110101111110110110111110111011110111111111'"
            ],
            "application/vnd.google.colaboratory.intrinsic+json": {
              "type": "string"
            }
          },
          "metadata": {},
          "execution_count": 15
        }
      ]
    },
    {
      "cell_type": "code",
      "source": [],
      "metadata": {
        "id": "VRtZTr-ZGfdS"
      },
      "execution_count": null,
      "outputs": []
    }
  ]
}