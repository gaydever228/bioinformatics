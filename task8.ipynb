{
  "nbformat": 4,
  "nbformat_minor": 0,
  "metadata": {
    "colab": {
      "provenance": [],
      "authorship_tag": "ABX9TyN9DCEgqBC2Ai2OD4dTtVmh",
      "include_colab_link": true
    },
    "kernelspec": {
      "name": "python3",
      "display_name": "Python 3"
    },
    "language_info": {
      "name": "python"
    }
  },
  "cells": [
    {
      "cell_type": "markdown",
      "metadata": {
        "id": "view-in-github",
        "colab_type": "text"
      },
      "source": [
        "<a href=\"https://colab.research.google.com/github/gaydever228/bioinformatics/blob/main/task8.ipynb\" target=\"_parent\"><img src=\"https://colab.research.google.com/assets/colab-badge.svg\" alt=\"Open In Colab\"/></a>"
      ]
    },
    {
      "cell_type": "markdown",
      "source": [
        "Designed by **Sergei Kozlov** M05-315 in *Dolgoprudnii, Russia*"
      ],
      "metadata": {
        "id": "jphMKAaz6pL6"
      }
    },
    {
      "cell_type": "markdown",
      "source": [
        "# Implement RandomizedMotifSearch"
      ],
      "metadata": {
        "id": "2d0_jnrj6p-F"
      }
    },
    {
      "cell_type": "code",
      "source": [
        "import numpy as np"
      ],
      "metadata": {
        "id": "SsxZ2ccLBunN"
      },
      "execution_count": null,
      "outputs": []
    },
    {
      "cell_type": "code",
      "source": [
        "task_file = open('rosalind_ba2f.txt','r')\n",
        "task = task_file.readlines()\n",
        "k, t = task[0].split()\n",
        "dna_strings = task[1:]\n",
        "\n",
        "k = int(k)\n",
        "t = int(t)"
      ],
      "metadata": {
        "id": "SEORM5VN6zVE"
      },
      "execution_count": null,
      "outputs": []
    },
    {
      "cell_type": "code",
      "source": [
        "for i in range(len(dna_strings)):\n",
        "    dna_strings[i] = dna_strings[i][:-1]"
      ],
      "metadata": {
        "id": "qxqMqwvA6zul"
      },
      "execution_count": null,
      "outputs": []
    },
    {
      "cell_type": "code",
      "source": [
        "def matching(pattern1, pattern2):\n",
        "    if len(pattern1) != len(pattern2):\n",
        "        return False\n",
        "    count = 0\n",
        "    for i in range(len(pattern1)):\n",
        "        count += int(pattern1[i] != pattern2[i])\n",
        "    return count\n"
      ],
      "metadata": {
        "id": "tLWyu-6t6zyJ"
      },
      "execution_count": null,
      "outputs": []
    },
    {
      "cell_type": "code",
      "source": [
        "def profile_gen(motifs):\n",
        "    profile = np.zeros((len(motifs[0]), 4))\n",
        "    for i in range(len(motifs[0])):\n",
        "        dic = {'A':1, 'C':1, 'G':1, 'T':1}\n",
        "        for motif in motifs:\n",
        "            dic[motif[i]] += 1\n",
        "        profile[i] = np.array([dic['A'], dic['C'], dic['G'], dic['T']])/(len(motifs)+4)\n",
        "    #print(profile)\n",
        "    return profile\n",
        "\n",
        "def prob(kmer, profile):\n",
        "    dic = {'A':0, 'C':1, 'G':2, 'T':3}\n",
        "    p = 1\n",
        "    for i in range(len(kmer)):\n",
        "        p *= profile[i][dic[kmer[i]]]\n",
        "    return p\n",
        "def best_motif(dna, k, profile):\n",
        "    bestP = 0\n",
        "    best = dna[:k]\n",
        "    for i in range(len(dna) - k + 1):\n",
        "        kmer = dna[i:i + k]\n",
        "        currentP = prob(kmer, profile)\n",
        "        if currentP > bestP:\n",
        "            best = kmer\n",
        "            bestP = currentP\n",
        "    return best\n"
      ],
      "metadata": {
        "id": "P4daVLlp8m6J"
      },
      "execution_count": null,
      "outputs": []
    },
    {
      "cell_type": "code",
      "source": [
        "def consensus(motifs):\n",
        "    cons = ''\n",
        "    for i in range(len(motifs[0])):\n",
        "        dic = {'A':0, 'C':0, 'G':0, 'T':0}\n",
        "        for motif in motifs:\n",
        "            dic[motif[i]] += 1\n",
        "        cons += max(dic, key=dic.get)\n",
        "    return cons\n",
        "\n",
        "def score(motifs):\n",
        "    cons = consensus(motifs)\n",
        "    score = 0\n",
        "    for motif in motifs:\n",
        "        score += matching(cons, motif)\n",
        "    return score"
      ],
      "metadata": {
        "id": "Je5g6OidOL-Q"
      },
      "execution_count": null,
      "outputs": []
    },
    {
      "cell_type": "code",
      "source": [
        "def randoms(k, dna_strings):\n",
        "    motifs = []\n",
        "    for dna in dna_strings:\n",
        "        st = np.random.randint(0, len(dna) - k)\n",
        "        motifs.append(dna[st:st + k])\n",
        "    return motifs"
      ],
      "metadata": {
        "id": "O9vzA2G9opnO"
      },
      "execution_count": null,
      "outputs": []
    },
    {
      "cell_type": "code",
      "source": [
        "def searching(dna_strings, k, t):\n",
        "    bests = randoms(k, dna_strings)\n",
        "    while 5==5:\n",
        "        profile = profile_gen(bests)\n",
        "        motifs = []\n",
        "        for dna in dna_strings:\n",
        "            motifs.append(best_motif(dna, k, profile))\n",
        "        if score(bests) > score(motifs):\n",
        "            bests = motifs\n",
        "        else:\n",
        "            return bests\n",
        "def ULTIMATE_SEARCHING_ONE_THOUSAND(dna_strings, k, t):\n",
        "    bests = randoms(k, dna_strings)\n",
        "    for i in range(1000):\n",
        "        motifs = searching(dna_strings, k, t)\n",
        "        if score(bests) > score(motifs):\n",
        "            bests = motifs\n",
        "    return \"\\n\".join(bests)"
      ],
      "metadata": {
        "id": "DBkdvtAEQVMB"
      },
      "execution_count": null,
      "outputs": []
    },
    {
      "cell_type": "markdown",
      "source": [
        "## Пример"
      ],
      "metadata": {
        "id": "6KoPJXOzY2Z-"
      }
    },
    {
      "cell_type": "code",
      "source": [
        "print(ULTIMATE_SEARCHING_ONE_THOUSAND(dna_strings, k, t))"
      ],
      "metadata": {
        "colab": {
          "base_uri": "https://localhost:8080/"
        },
        "id": "5OD7I58UTeFM",
        "outputId": "8fd4cf82-77e4-4073-bd11-be69085c27c8"
      },
      "execution_count": null,
      "outputs": [
        {
          "output_type": "stream",
          "name": "stdout",
          "text": [
            "AACAGCGGGAGCTTG\n",
            "AACGGTATCAGATAA\n",
            "AACAACATCAGGCTA\n",
            "AACAACATGTTATAA\n",
            "AACTCTATCAGATAA\n",
            "AACAACGGAAGATAA\n",
            "AACAACATCAGAGTG\n",
            "TCCAACATCAGATAG\n",
            "AACAATGGCAGATAA\n",
            "ATTGACATCAGATAA\n",
            "AATCGCATCAGATAA\n",
            "AACAAGTGCAGATAA\n",
            "AACATGCTCAGATAA\n",
            "AACAGATTCAGATAA\n",
            "AACAACATCTTGTAA\n",
            "GGAAACATCAGATAA\n",
            "AACAACCATAGATAA\n",
            "AACAACATCAACAAA\n",
            "TACAACATCAGATTC\n",
            "AACAACACATGATAA\n"
          ]
        }
      ]
    },
    {
      "cell_type": "code",
      "source": [
        "print(*ULTIMATE_SEARCHING_ONE_THOUSAND(dna_strings, k, t))"
      ],
      "metadata": {
        "colab": {
          "base_uri": "https://localhost:8080/",
          "height": 321
        },
        "id": "LoQ8biYa6mCg",
        "outputId": "59415342-012f-4741-9361-16fc2ffaf8ff"
      },
      "execution_count": null,
      "outputs": [
        {
          "output_type": "error",
          "ename": "KeyboardInterrupt",
          "evalue": "ignored",
          "traceback": [
            "\u001b[0;31m---------------------------------------------------------------------------\u001b[0m",
            "\u001b[0;31mKeyboardInterrupt\u001b[0m                         Traceback (most recent call last)",
            "\u001b[0;32m<ipython-input-35-8b3bf78fe03c>\u001b[0m in \u001b[0;36m<cell line: 1>\u001b[0;34m()\u001b[0m\n\u001b[0;32m----> 1\u001b[0;31m \u001b[0mprint\u001b[0m\u001b[0;34m(\u001b[0m\u001b[0;34m*\u001b[0m\u001b[0mULTIMATE_SEARCHING_ONE_THOUSAND\u001b[0m\u001b[0;34m(\u001b[0m\u001b[0mdna_strings\u001b[0m\u001b[0;34m,\u001b[0m \u001b[0mk\u001b[0m\u001b[0;34m,\u001b[0m \u001b[0mt\u001b[0m\u001b[0;34m)\u001b[0m\u001b[0;34m)\u001b[0m\u001b[0;34m\u001b[0m\u001b[0;34m\u001b[0m\u001b[0m\n\u001b[0m",
            "\u001b[0;32m<ipython-input-34-d65fae36ce05>\u001b[0m in \u001b[0;36mULTIMATE_SEARCHING_ONE_THOUSAND\u001b[0;34m(dna_strings, k, t)\u001b[0m\n\u001b[1;32m     13\u001b[0m     \u001b[0mbests\u001b[0m \u001b[0;34m=\u001b[0m \u001b[0mrandoms\u001b[0m\u001b[0;34m(\u001b[0m\u001b[0mk\u001b[0m\u001b[0;34m,\u001b[0m \u001b[0mdna_strings\u001b[0m\u001b[0;34m)\u001b[0m\u001b[0;34m\u001b[0m\u001b[0;34m\u001b[0m\u001b[0m\n\u001b[1;32m     14\u001b[0m     \u001b[0;32mfor\u001b[0m \u001b[0mi\u001b[0m \u001b[0;32min\u001b[0m \u001b[0mrange\u001b[0m\u001b[0;34m(\u001b[0m\u001b[0;36m1000\u001b[0m\u001b[0;34m)\u001b[0m\u001b[0;34m:\u001b[0m\u001b[0;34m\u001b[0m\u001b[0;34m\u001b[0m\u001b[0m\n\u001b[0;32m---> 15\u001b[0;31m         \u001b[0mmotifs\u001b[0m \u001b[0;34m=\u001b[0m \u001b[0msearching\u001b[0m\u001b[0;34m(\u001b[0m\u001b[0mdna_strings\u001b[0m\u001b[0;34m,\u001b[0m \u001b[0mk\u001b[0m\u001b[0;34m,\u001b[0m \u001b[0mt\u001b[0m\u001b[0;34m)\u001b[0m\u001b[0;34m\u001b[0m\u001b[0;34m\u001b[0m\u001b[0m\n\u001b[0m\u001b[1;32m     16\u001b[0m         \u001b[0;32mif\u001b[0m \u001b[0mscore\u001b[0m\u001b[0;34m(\u001b[0m\u001b[0mbests\u001b[0m\u001b[0;34m)\u001b[0m \u001b[0;34m>\u001b[0m \u001b[0mscore\u001b[0m\u001b[0;34m(\u001b[0m\u001b[0mmotifs\u001b[0m\u001b[0;34m)\u001b[0m\u001b[0;34m:\u001b[0m\u001b[0;34m\u001b[0m\u001b[0;34m\u001b[0m\u001b[0m\n\u001b[1;32m     17\u001b[0m             \u001b[0mbests\u001b[0m \u001b[0;34m=\u001b[0m \u001b[0mmotifs\u001b[0m\u001b[0;34m\u001b[0m\u001b[0;34m\u001b[0m\u001b[0m\n",
            "\u001b[0;32m<ipython-input-34-d65fae36ce05>\u001b[0m in \u001b[0;36msearching\u001b[0;34m(dna_strings, k, t)\u001b[0m\n\u001b[1;32m      5\u001b[0m         \u001b[0mmotifs\u001b[0m \u001b[0;34m=\u001b[0m \u001b[0;34m[\u001b[0m\u001b[0;34m]\u001b[0m\u001b[0;34m\u001b[0m\u001b[0;34m\u001b[0m\u001b[0m\n\u001b[1;32m      6\u001b[0m         \u001b[0;32mfor\u001b[0m \u001b[0mdna\u001b[0m \u001b[0;32min\u001b[0m \u001b[0mdna_strings\u001b[0m\u001b[0;34m:\u001b[0m\u001b[0;34m\u001b[0m\u001b[0;34m\u001b[0m\u001b[0m\n\u001b[0;32m----> 7\u001b[0;31m             \u001b[0mmotifs\u001b[0m\u001b[0;34m.\u001b[0m\u001b[0mappend\u001b[0m\u001b[0;34m(\u001b[0m\u001b[0mbest_motif\u001b[0m\u001b[0;34m(\u001b[0m\u001b[0mdna\u001b[0m\u001b[0;34m,\u001b[0m \u001b[0mk\u001b[0m\u001b[0;34m,\u001b[0m \u001b[0mprofile\u001b[0m\u001b[0;34m)\u001b[0m\u001b[0;34m)\u001b[0m\u001b[0;34m\u001b[0m\u001b[0;34m\u001b[0m\u001b[0m\n\u001b[0m\u001b[1;32m      8\u001b[0m         \u001b[0;32mif\u001b[0m \u001b[0mscore\u001b[0m\u001b[0;34m(\u001b[0m\u001b[0mbests\u001b[0m\u001b[0;34m)\u001b[0m \u001b[0;34m>\u001b[0m \u001b[0mscore\u001b[0m\u001b[0;34m(\u001b[0m\u001b[0mmotifs\u001b[0m\u001b[0;34m)\u001b[0m\u001b[0;34m:\u001b[0m\u001b[0;34m\u001b[0m\u001b[0;34m\u001b[0m\u001b[0m\n\u001b[1;32m      9\u001b[0m             \u001b[0mbests\u001b[0m \u001b[0;34m=\u001b[0m \u001b[0mmotifs\u001b[0m\u001b[0;34m\u001b[0m\u001b[0;34m\u001b[0m\u001b[0m\n",
            "\u001b[0;32m<ipython-input-31-3648a42684c9>\u001b[0m in \u001b[0;36mbest_motif\u001b[0;34m(dna, k, profile)\u001b[0m\n\u001b[1;32m     20\u001b[0m     \u001b[0;32mfor\u001b[0m \u001b[0mi\u001b[0m \u001b[0;32min\u001b[0m \u001b[0mrange\u001b[0m\u001b[0;34m(\u001b[0m\u001b[0mlen\u001b[0m\u001b[0;34m(\u001b[0m\u001b[0mdna\u001b[0m\u001b[0;34m)\u001b[0m \u001b[0;34m-\u001b[0m \u001b[0mk\u001b[0m \u001b[0;34m+\u001b[0m \u001b[0;36m1\u001b[0m\u001b[0;34m)\u001b[0m\u001b[0;34m:\u001b[0m\u001b[0;34m\u001b[0m\u001b[0;34m\u001b[0m\u001b[0m\n\u001b[1;32m     21\u001b[0m         \u001b[0mkmer\u001b[0m \u001b[0;34m=\u001b[0m \u001b[0mdna\u001b[0m\u001b[0;34m[\u001b[0m\u001b[0mi\u001b[0m\u001b[0;34m:\u001b[0m\u001b[0mi\u001b[0m \u001b[0;34m+\u001b[0m \u001b[0mk\u001b[0m\u001b[0;34m]\u001b[0m\u001b[0;34m\u001b[0m\u001b[0;34m\u001b[0m\u001b[0m\n\u001b[0;32m---> 22\u001b[0;31m         \u001b[0mcurrentP\u001b[0m \u001b[0;34m=\u001b[0m \u001b[0mprob\u001b[0m\u001b[0;34m(\u001b[0m\u001b[0mkmer\u001b[0m\u001b[0;34m,\u001b[0m \u001b[0mprofile\u001b[0m\u001b[0;34m)\u001b[0m\u001b[0;34m\u001b[0m\u001b[0;34m\u001b[0m\u001b[0m\n\u001b[0m\u001b[1;32m     23\u001b[0m         \u001b[0;32mif\u001b[0m \u001b[0mcurrentP\u001b[0m \u001b[0;34m>\u001b[0m \u001b[0mbestP\u001b[0m\u001b[0;34m:\u001b[0m\u001b[0;34m\u001b[0m\u001b[0;34m\u001b[0m\u001b[0m\n\u001b[1;32m     24\u001b[0m             \u001b[0mbest\u001b[0m \u001b[0;34m=\u001b[0m \u001b[0mkmer\u001b[0m\u001b[0;34m\u001b[0m\u001b[0;34m\u001b[0m\u001b[0m\n",
            "\u001b[0;32m<ipython-input-31-3648a42684c9>\u001b[0m in \u001b[0;36mprob\u001b[0;34m(kmer, profile)\u001b[0m\n\u001b[1;32m     13\u001b[0m     \u001b[0mp\u001b[0m \u001b[0;34m=\u001b[0m \u001b[0;36m1\u001b[0m\u001b[0;34m\u001b[0m\u001b[0;34m\u001b[0m\u001b[0m\n\u001b[1;32m     14\u001b[0m     \u001b[0;32mfor\u001b[0m \u001b[0mi\u001b[0m \u001b[0;32min\u001b[0m \u001b[0mrange\u001b[0m\u001b[0;34m(\u001b[0m\u001b[0mlen\u001b[0m\u001b[0;34m(\u001b[0m\u001b[0mkmer\u001b[0m\u001b[0;34m)\u001b[0m\u001b[0;34m)\u001b[0m\u001b[0;34m:\u001b[0m\u001b[0;34m\u001b[0m\u001b[0;34m\u001b[0m\u001b[0m\n\u001b[0;32m---> 15\u001b[0;31m         \u001b[0mp\u001b[0m \u001b[0;34m*=\u001b[0m \u001b[0mprofile\u001b[0m\u001b[0;34m[\u001b[0m\u001b[0mi\u001b[0m\u001b[0;34m]\u001b[0m\u001b[0;34m[\u001b[0m\u001b[0mdic\u001b[0m\u001b[0;34m[\u001b[0m\u001b[0mkmer\u001b[0m\u001b[0;34m[\u001b[0m\u001b[0mi\u001b[0m\u001b[0;34m]\u001b[0m\u001b[0;34m]\u001b[0m\u001b[0;34m]\u001b[0m\u001b[0;34m\u001b[0m\u001b[0;34m\u001b[0m\u001b[0m\n\u001b[0m\u001b[1;32m     16\u001b[0m     \u001b[0;32mreturn\u001b[0m \u001b[0mp\u001b[0m\u001b[0;34m\u001b[0m\u001b[0;34m\u001b[0m\u001b[0m\n\u001b[1;32m     17\u001b[0m \u001b[0;32mdef\u001b[0m \u001b[0mbest_motif\u001b[0m\u001b[0;34m(\u001b[0m\u001b[0mdna\u001b[0m\u001b[0;34m,\u001b[0m \u001b[0mk\u001b[0m\u001b[0;34m,\u001b[0m \u001b[0mprofile\u001b[0m\u001b[0;34m)\u001b[0m\u001b[0;34m:\u001b[0m\u001b[0;34m\u001b[0m\u001b[0;34m\u001b[0m\u001b[0m\n",
            "\u001b[0;31mKeyboardInterrupt\u001b[0m: "
          ]
        }
      ]
    }
  ]
}