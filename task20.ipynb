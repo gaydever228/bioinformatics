{
  "nbformat": 4,
  "nbformat_minor": 0,
  "metadata": {
    "colab": {
      "provenance": [],
      "include_colab_link": true
    },
    "kernelspec": {
      "name": "python3",
      "display_name": "Python 3"
    },
    "language_info": {
      "name": "python"
    }
  },
  "cells": [
    {
      "cell_type": "markdown",
      "metadata": {
        "id": "view-in-github",
        "colab_type": "text"
      },
      "source": [
        "<a href=\"https://colab.research.google.com/github/gaydever228/bioinformatics/blob/main/task20.ipynb\" target=\"_parent\"><img src=\"https://colab.research.google.com/assets/colab-badge.svg\" alt=\"Open In Colab\"/></a>"
      ]
    },
    {
      "cell_type": "markdown",
      "source": [
        "Designed by **Sergei Kozlov** M05-315 in *Dolgoprudnii, Russia*"
      ],
      "metadata": {
        "id": "qIOYyS0GUJpt"
      }
    },
    {
      "cell_type": "markdown",
      "source": [
        "# Implement ConvolutionCyclopeptideSequencing"
      ],
      "metadata": {
        "id": "L3rstdoXT0j1"
      }
    },
    {
      "cell_type": "code",
      "source": [
        "task_file = open('rosalind_ba4i.txt','r')\n",
        "task = ''.join(task_file).split()\n",
        "m = int(task[0])\n",
        "n = int(task[1])\n",
        "spectrum = [int(i) for i in task[2:]]"
      ],
      "metadata": {
        "id": "qbxxQM1wqbLI"
      },
      "execution_count": null,
      "outputs": []
    },
    {
      "cell_type": "code",
      "source": [
        "def expand(peptides, mtop):\n",
        "    expands = []\n",
        "    for p in peptides:\n",
        "        for m in mtop:\n",
        "            expands.append(p + [m])\n",
        "    return expands\n",
        "\n",
        "def lspectrum(peptide):\n",
        "    m = [0]\n",
        "    leng = len(peptide)\n",
        "    for i in range(leng):\n",
        "        mp = m[i] + peptide[i]\n",
        "        m.append(mp)\n",
        "    spectrum = [0]\n",
        "    for i in range(leng):\n",
        "        for j in range(i+1, leng+1):\n",
        "            spectrum.append(m[j] - m[i])\n",
        "    return sorted(spectrum)\n",
        "\n",
        "def cyclospectrum(peptide):\n",
        "    cyclospectrum = [0, sum(peptide)]\n",
        "    pp = peptide*2\n",
        "    for i in range(1, len(peptide)):\n",
        "        for j in range(len(peptide)):\n",
        "            p = pp[j:j + i]\n",
        "            cyclospectrum.append(sum(p))\n",
        "    return sorted(cyclospectrum)\n",
        "\n",
        "def lscore(peptide, spectrum):\n",
        "    score = 0\n",
        "    sspectrum = spectrum.copy()\n",
        "    for i in lspectrum(peptide):\n",
        "        if i in sspectrum:\n",
        "            score += 1\n",
        "            sspectrum.remove(i)\n",
        "    return score\n",
        "\n",
        "def cscore(peptide, spectrum):\n",
        "    score = 0\n",
        "    for i in set(cyclospectrum(peptide)+spectrum):\n",
        "            score += min(cyclospectrum(peptide).count(i), spectrum.count(i))\n",
        "    return score\n",
        "\n",
        "def trim(leaderboard, spectrum, n):\n",
        "    scores = {}\n",
        "    if len(leaderboard) <= n:\n",
        "        return leaderboard\n",
        "    for i, p in enumerate(leaderboard):\n",
        "        scores[i] = lscore(p, spectrum)\n",
        "    sscores = sorted(scores.values())[::-1]\n",
        "    trim = sscores[n-1]\n",
        "    tleaderboard = [leaderboard[i] for i, score in scores.items() if score >= trim]\n",
        "    return tleaderboard"
      ],
      "metadata": {
        "id": "xytNF-deqsmA"
      },
      "execution_count": null,
      "outputs": []
    },
    {
      "cell_type": "code",
      "source": [
        "def leaderboard(n, spectrum, mtop):\n",
        "    score = 0\n",
        "    leaderboard = [[]]\n",
        "    lpeptide = []\n",
        "    res = set()\n",
        "    while leaderboard:\n",
        "        leaderboard = expand(leaderboard, mtop)\n",
        "        for p in leaderboard:\n",
        "            if sum(p) == spectrum[-1]:\n",
        "                if cscore(p, spectrum) > score:\n",
        "                    score = cscore(p, spectrum)\n",
        "                    lpeptide = p\n",
        "            elif sum(p) > spectrum[-1]:\n",
        "                leaderboard = list(filter(lambda i: i != p, leaderboard))\n",
        "        leaderboard = trim(leaderboard, spectrum, n)\n",
        "    res = \"\".join(['-'+str(i) for i in lpeptide])\n",
        "    return res\n",
        "\n",
        "def conv(spectrum):\n",
        "    convolution = {}\n",
        "    mass = []\n",
        "    sspectrum = sorted(spectrum)\n",
        "    for i in range(len(sspectrum)-1):\n",
        "        for j in range(i, len(sspectrum)):\n",
        "            mass.append(sspectrum[j]-sspectrum[i])\n",
        "    for m in mass:\n",
        "        if (m >= 57 and m <= 200):\n",
        "            convolution[m] = mass.count(m)\n",
        "    return convolution\n",
        "\n",
        "def top(conv, m):\n",
        "    sconv = sorted(conv.items(), key=lambda m: m[1])[::-1]\n",
        "    mtop = [mass for mass, k in sconv if k >= sconv[m][1]]\n",
        "    return mtop\n",
        "\n",
        "def convCycloSequencing(m, n, spectrum):\n",
        "    mtop = top(conv(spectrum), m)\n",
        "    lpeptide = leaderboard(n, spectrum, mtop)\n",
        "    return lpeptide[1:]"
      ],
      "metadata": {
        "id": "KCxBaUXNsus5"
      },
      "execution_count": null,
      "outputs": []
    },
    {
      "cell_type": "code",
      "source": [
        "convCycloSequencing(m, n, spectrum)"
      ],
      "metadata": {
        "colab": {
          "base_uri": "https://localhost:8080/",
          "height": 35
        },
        "id": "qcosUjrI1C57",
        "outputId": "cddb08ab-ee2f-4cae-8833-e6889c4a44fa"
      },
      "execution_count": null,
      "outputs": [
        {
          "output_type": "execute_result",
          "data": {
            "text/plain": [
              "'128-57-128-99-156-71-137-129-128-87-114-114-186'"
            ],
            "application/vnd.google.colaboratory.intrinsic+json": {
              "type": "string"
            }
          },
          "metadata": {},
          "execution_count": 14
        }
      ]
    }
  ]
}