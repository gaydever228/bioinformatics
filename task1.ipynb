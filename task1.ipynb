{
  "nbformat": 4,
  "nbformat_minor": 0,
  "metadata": {
    "colab": {
      "provenance": []
    },
    "kernelspec": {
      "name": "python3",
      "display_name": "Python 3"
    },
    "language_info": {
      "name": "python"
    }
  },
  "cells": [
    {
      "cell_type": "markdown",
      "source": [
        "Designed by Sergei Kozlov M05-315 in Dolgoprudnii, Russia"
      ],
      "metadata": {
        "id": "nUT1S27STS3Y"
      }
    },
    {
      "cell_type": "markdown",
      "source": [
        "# Clump Finding Problem"
      ],
      "metadata": {
        "id": "WkXAmLjoTvj-"
      }
    },
    {
      "cell_type": "code",
      "execution_count": null,
      "metadata": {
        "id": "kdeA3vOBQF9I"
      },
      "outputs": [],
      "source": [
        "task_file = open('rosalind_ba1e.txt','r')\n",
        "task = task_file.readlines()\n",
        "genome = task[0]"
      ]
    },
    {
      "cell_type": "code",
      "source": [
        "k, L, t = task[1].split()"
      ],
      "metadata": {
        "id": "_GxWo5k1TSrG"
      },
      "execution_count": null,
      "outputs": []
    },
    {
      "cell_type": "code",
      "source": [
        "k = int(k)\n",
        "L = int(L)\n",
        "t = int(t)"
      ],
      "metadata": {
        "id": "V5cW96C7WU5h"
      },
      "execution_count": null,
      "outputs": []
    },
    {
      "cell_type": "code",
      "source": [
        "def Find(genome, k, L, t):\n",
        "    dic = dict()\n",
        "    output = []\n",
        "\n",
        "    for i in range(len(genome) - k + 1):\n",
        "        kmer = genome[i:i + k]\n",
        "        dic[kmer] = 0\n",
        "    for i in range(len(genome) - L + 1):\n",
        "        #count = 0\n",
        "        for j in range(L - k + 1):\n",
        "            dic[genome[i + j : i + j + k]] += 1\n",
        "            #print(genome[i + j : i + j + k], dic[genome[i + j : i + j + k]])\n",
        "\n",
        "        for key in dic:\n",
        "            if dic[key] >= t:\n",
        "                output.append(key)\n",
        "                #print('great success')\n",
        "            dic[key] = 0\n",
        "\n",
        "    return \" \".join(set(output))"
      ],
      "metadata": {
        "id": "2QlWyag1VX2r"
      },
      "execution_count": null,
      "outputs": []
    },
    {
      "cell_type": "markdown",
      "source": [
        "## Пример:"
      ],
      "metadata": {
        "id": "o00JFMMpfmtV"
      }
    },
    {
      "cell_type": "code",
      "source": [
        "genomeEx = 'CGGACTCGACAGATGTGAAGAAATGTGAAGACTGAGTGAAGAGAAGAGGAAACACGACACGACATTGCGACATAATGTACGAATGTAATGTGCCTATGGC'\n",
        "kEx, LEx, tEx = 5, 75, 4\n",
        "Find(genomeEx, kEx, LEx, tEx)"
      ],
      "metadata": {
        "colab": {
          "base_uri": "https://localhost:8080/",
          "height": 35
        },
        "id": "sVVGWUuqWHxl",
        "outputId": "23966d45-1ef0-40dc-d6fe-de34c8c4fb12"
      },
      "execution_count": null,
      "outputs": [
        {
          "output_type": "execute_result",
          "data": {
            "text/plain": [
              "'CGACA GAAGA AATGT'"
            ],
            "application/vnd.google.colaboratory.intrinsic+json": {
              "type": "string"
            }
          },
          "metadata": {},
          "execution_count": 43
        }
      ]
    },
    {
      "cell_type": "code",
      "source": [
        "Find(genome, k, L, t)"
      ],
      "metadata": {
        "colab": {
          "base_uri": "https://localhost:8080/",
          "height": 35
        },
        "id": "6Kn725dFfzX_",
        "outputId": "c553479a-5ddf-4fcf-9ddf-0fbc97601d7a"
      },
      "execution_count": null,
      "outputs": [
        {
          "output_type": "execute_result",
          "data": {
            "text/plain": [
              "'CCCATCCGTGG TGGCTTGCCCA CCAAATGGGAA TTTTTGGATGA CTTTTCGTTCC TCATACAACGA CCTTTTCGTTC TTGACCCCACA'"
            ],
            "application/vnd.google.colaboratory.intrinsic+json": {
              "type": "string"
            }
          },
          "metadata": {},
          "execution_count": 44
        }
      ]
    }
  ]
}