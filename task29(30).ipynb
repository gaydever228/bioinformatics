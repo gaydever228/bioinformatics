{
  "nbformat": 4,
  "nbformat_minor": 0,
  "metadata": {
    "colab": {
      "provenance": [],
      "include_colab_link": true
    },
    "kernelspec": {
      "name": "python3",
      "display_name": "Python 3"
    },
    "language_info": {
      "name": "python"
    }
  },
  "cells": [
    {
      "cell_type": "markdown",
      "metadata": {
        "id": "view-in-github",
        "colab_type": "text"
      },
      "source": [
        "<a href=\"https://colab.research.google.com/github/gaydever228/bioinformatics/blob/main/task29(30).ipynb\" target=\"_parent\"><img src=\"https://colab.research.google.com/assets/colab-badge.svg\" alt=\"Open In Colab\"/></a>"
      ]
    },
    {
      "cell_type": "markdown",
      "source": [
        "Designed by **Sergei Kozlov** M05-315 in *Dolgoprudnii, Russia*"
      ],
      "metadata": {
        "id": "qIOYyS0GUJpt"
      }
    },
    {
      "cell_type": "markdown",
      "source": [
        "# Find a Shortest Transformation of One Genome into Another by 2-Breaks"
      ],
      "metadata": {
        "id": "L3rstdoXT0j1"
      }
    },
    {
      "cell_type": "code",
      "source": [
        "import numpy as np"
      ],
      "metadata": {
        "id": "VV-J0pFzvmM-"
      },
      "execution_count": null,
      "outputs": []
    },
    {
      "cell_type": "code",
      "source": [
        "task_file = open('rosalind_ba6k.txt','r')\n",
        "task_lines = task_file.readlines()\n",
        "gene1 = task_lines[0][1:-2].split(')(')\n",
        "\n",
        "for i in range(len(gene1)):\n",
        "    gene1[i] = [int(e) for e in gene1[i].split(' ')]\n",
        "indices = task_lines[1]\n",
        "i1 , i2 , j1 , j2 = indices.split(',')\n",
        "i1 , i2 , j1 , j2 = int(i1) , int(i2) , int(j1) , int(j2)"
      ],
      "metadata": {
        "id": "qbxxQM1wqbLI"
      },
      "execution_count": null,
      "outputs": []
    },
    {
      "cell_type": "code",
      "source": [
        "def X2C(X):\n",
        "    C = []\n",
        "    for i in X:\n",
        "        if i > 0:\n",
        "            C.append(2 * i - 1)\n",
        "            C.append(2 * i)\n",
        "        else:\n",
        "            C.append(-2 * i)\n",
        "            C.append(-2 * i - 1)\n",
        "    return C\n",
        "\n",
        "def C2X(C):\n",
        "    X = []\n",
        "    for j in range(0, len(C), 2):\n",
        "        if C[j] < C[j + 1]:\n",
        "            X.append(C[j + 1]//2)\n",
        "        else:\n",
        "            X.append(-C[j]//2)\n",
        "    return X\n",
        "\n",
        "def colourize(P):\n",
        "    E = list()\n",
        "    for X in P:\n",
        "        C = X2C(X)\n",
        "        for j in range(1, len(C), 2):\n",
        "            if j != len(C) - 1:\n",
        "                E.append([C[j], C[j + 1]])\n",
        "            else:\n",
        "                E.append([C[j], C[0]])\n",
        "    return E\n",
        "\n",
        "def nexta(cur, E):\n",
        "    if len(E) == 0:\n",
        "        return -1\n",
        "    i = 0\n",
        "    while not (cur[0] in E[i] or cur[1] in E[i]):\n",
        "        i += 1\n",
        "        if i == len(E):\n",
        "            return -1\n",
        "    return E[i]\n",
        "\n",
        "def nextaG(cur, E):\n",
        "    if len(E) == 0:\n",
        "        return -1\n",
        "    cur[1] += -1*(-1)**(cur[1] % 2)\n",
        "    i = 0\n",
        "    while not cur[1] in E[i]:\n",
        "        i += 1\n",
        "        if i == len(E):\n",
        "            return -1\n",
        "\n",
        "    if cur[1] == E[i][1]:\n",
        "        E[i] = E[i][::-1]\n",
        "\n",
        "    return E[i]\n",
        "\n",
        "def breakingGraph(graph, i1 , i2 , j1 , j2):\n",
        "\n",
        "    if [i1, i2] in graph:\n",
        "        for i in range(len(graph)):\n",
        "            if graph[i] == [i1, i2]:\n",
        "                graph[i] = [i1, j1]\n",
        "    else:\n",
        "        for i in range(len(graph)):\n",
        "            if graph[i] == [i2, i1]:\n",
        "                graph[i] = [j1, i1]\n",
        "\n",
        "    if [j1, j2] in graph:\n",
        "        for i in range(len(graph)):\n",
        "            if graph[i] == [j1, j2]:\n",
        "                graph[i] = [i2, j2]\n",
        "    else:\n",
        "        for i in range(len(graph)):\n",
        "            if graph[i] == [j2, j1]:\n",
        "                graph[i] = [j2, i2]\n",
        "\n",
        "    return graph\n",
        "\n",
        "def graph2Gene(graph):\n",
        "\n",
        "    P = []\n",
        "    CYC = []\n",
        "    i = 0\n",
        "\n",
        "    while len(graph) != 0:\n",
        "        cycle = []\n",
        "        cur = graph[0]\n",
        "        while cur != -1:\n",
        "            cycle += cur\n",
        "            graph.remove(cur)\n",
        "            next = nextaG(cur, graph)\n",
        "            cur = next\n",
        "\n",
        "        CYC.append(cycle)\n",
        "\n",
        "    for node in CYC:\n",
        "        node = [node[-1]] + node[:-1]\n",
        "        X = C2X(node)\n",
        "        P.append(X)\n",
        "\n",
        "    return P\n",
        "\n",
        "def breaking2(P, i1 , i2 , j1 , j2):\n",
        "\n",
        "    graph = colourize(P)\n",
        "    graph = breakingGraph(graph, i1, i2, j1, j2)\n",
        "    P = graph2Gene(graph)\n",
        "    for i in range(len(P)):\n",
        "        P[i] = '(' + ' '.join(('+' if x > 0 else '') + str(x) for x in P[i]) + ')'\n",
        "    return ''.join(P)"
      ],
      "metadata": {
        "id": "kUulQP9XsHlw"
      },
      "execution_count": null,
      "outputs": []
    },
    {
      "cell_type": "code",
      "source": [
        "print(breaking2(gene1, i1 , i2 , j1 , j2))"
      ],
      "metadata": {
        "colab": {
          "base_uri": "https://localhost:8080/"
        },
        "id": "09X8xrmAtROp",
        "outputId": "708dbfea-bb2e-4db8-c847-f494a35132c0"
      },
      "execution_count": null,
      "outputs": [
        {
          "output_type": "stream",
          "name": "stdout",
          "text": [
            "(-1 +2 +3 -4 -5 -6 +7 -8 +9 -10 +11 +12 +13 -14 +56 -55 -54 +53 -52 -51 +50 +49 -48 +47 -46 -45 -44 -43 -42 +41 +40 +39 +38 -37 +36 -35 +34 +33 +32 -31 +30 -29 -28 -27 +26 +25 +24 +23 +22 +21 -20 -19 +18 -17 +16 -15 -57 +58 -59 -60)\n"
          ]
        }
      ]
    },
    {
      "cell_type": "code",
      "source": [],
      "metadata": {
        "id": "wdMYVPLttuPO"
      },
      "execution_count": null,
      "outputs": []
    }
  ]
}