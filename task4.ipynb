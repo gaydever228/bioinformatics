{
  "nbformat": 4,
  "nbformat_minor": 0,
  "metadata": {
    "colab": {
      "provenance": [],
      "authorship_tag": "ABX9TyPdqQZ5XW3tbeJvh2mCnSn2",
      "include_colab_link": true
    },
    "kernelspec": {
      "name": "python3",
      "display_name": "Python 3"
    },
    "language_info": {
      "name": "python"
    }
  },
  "cells": [
    {
      "cell_type": "markdown",
      "metadata": {
        "id": "view-in-github",
        "colab_type": "text"
      },
      "source": [
        "<a href=\"https://colab.research.google.com/github/gaydever228/bioinformatics/blob/main/task4.ipynb\" target=\"_parent\"><img src=\"https://colab.research.google.com/assets/colab-badge.svg\" alt=\"Open In Colab\"/></a>"
      ]
    },
    {
      "cell_type": "markdown",
      "source": [
        "Designed by **Sergei Kozlov** M05-315 in *Dolgoprudnii, Russia*"
      ],
      "metadata": {
        "id": "IQ5jEawKyt7u"
      }
    },
    {
      "cell_type": "markdown",
      "source": [
        "# Frequent Words with Mismatches Problem"
      ],
      "metadata": {
        "id": "6aeCCCYpyt0g"
      }
    },
    {
      "cell_type": "code",
      "source": [
        "task_file = open('rosalind_ba1i.txt','r')\n",
        "task = task_file.readlines()\n",
        "gen = task[0]\n",
        "k, d = task[1].split()\n",
        "k = int(k)\n",
        "d = int(d)"
      ],
      "metadata": {
        "id": "hwso1e-hzGzp"
      },
      "execution_count": null,
      "outputs": []
    },
    {
      "cell_type": "code",
      "execution_count": null,
      "metadata": {
        "id": "TpIEvhX-ygCE"
      },
      "outputs": [],
      "source": [
        "def matching(pattern1, pattern2, d):\n",
        "    if len(pattern1) == len(pattern2):\n",
        "        count = 0\n",
        "        for i in range(len(pattern1)):\n",
        "            count += int(pattern1[i] != pattern2[i])\n",
        "        if count <= d:\n",
        "            return True\n",
        "    return False"
      ]
    },
    {
      "cell_type": "code",
      "source": [
        "from itertools import product\n",
        "def generateKmers(k):\n",
        "    kmers = product('ACGT', repeat=k)\n",
        "    ar = []\n",
        "    for item in kmers:\n",
        "        ar.append(\"\".join(item))\n",
        "    return ar"
      ],
      "metadata": {
        "id": "UUxo-hTrzlxY"
      },
      "execution_count": null,
      "outputs": []
    },
    {
      "cell_type": "code",
      "source": [
        "def searching(gen, k, d):\n",
        "    dic = {}\n",
        "    kmers = generateKmers(k)\n",
        "    for pattern in kmers:\n",
        "        count = 0\n",
        "        for i in range(len(gen) - k + 1):\n",
        "            count += int(matching(pattern, gen[i: i + k], d))\n",
        "        dic[pattern] = count\n",
        "\n",
        "    ans = []\n",
        "    maximum = max(dic.values())\n",
        "\n",
        "    for key in dic:\n",
        "        if dic[key] == maximum:\n",
        "            ans.append(key)\n",
        "\n",
        "    return ' '.join(ans)"
      ],
      "metadata": {
        "id": "7rikyvaz0C5N"
      },
      "execution_count": null,
      "outputs": []
    },
    {
      "cell_type": "markdown",
      "source": [
        "## Ghbvth"
      ],
      "metadata": {
        "id": "i_ce4BMg10Sc"
      }
    },
    {
      "cell_type": "code",
      "source": [
        "gen1 = 'ACGTTGCATGTCGCATGATGCATGAGAGCT'\n",
        "k1 = 4\n",
        "d1 = 1\n",
        "\n",
        "searching(gen1, k1, d1)"
      ],
      "metadata": {
        "colab": {
          "base_uri": "https://localhost:8080/",
          "height": 35
        },
        "id": "9hHgkELl12Xa",
        "outputId": "6733d48f-2f11-479b-be13-b5d68d8eea5b"
      },
      "execution_count": null,
      "outputs": [
        {
          "output_type": "execute_result",
          "data": {
            "text/plain": [
              "'ATGC ATGT GATG'"
            ],
            "application/vnd.google.colaboratory.intrinsic+json": {
              "type": "string"
            }
          },
          "metadata": {},
          "execution_count": 8
        }
      ]
    },
    {
      "cell_type": "code",
      "source": [
        "searching(gen, k, d)"
      ],
      "metadata": {
        "colab": {
          "base_uri": "https://localhost:8080/",
          "height": 35
        },
        "id": "73UOu3Sx2Sma",
        "outputId": "59c36a5c-83f2-41c4-d793-0c4dc48a55ca"
      },
      "execution_count": null,
      "outputs": [
        {
          "output_type": "execute_result",
          "data": {
            "text/plain": [
              "'GGACCCC'"
            ],
            "application/vnd.google.colaboratory.intrinsic+json": {
              "type": "string"
            }
          },
          "metadata": {},
          "execution_count": 11
        }
      ]
    }
  ]
}